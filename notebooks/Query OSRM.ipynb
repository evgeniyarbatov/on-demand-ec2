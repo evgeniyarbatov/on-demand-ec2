{
 "cells": [
  {
   "cell_type": "code",
   "execution_count": 5,
   "id": "ea4a32e3",
   "metadata": {},
   "outputs": [],
   "source": [
    "import subprocess\n",
    "\n",
    "import requests\n",
    "import polyline\n",
    "\n",
    "import matplotlib.pyplot as plt\n",
    "import contextily as ctx"
   ]
  },
  {
   "cell_type": "code",
   "execution_count": 6,
   "id": "5ba60f80",
   "metadata": {},
   "outputs": [],
   "source": [
    "def osrm_format(coords):\n",
    "    lat, lon = coords\n",
    "    return f\"{lon},{lat}\"\n",
    "\n",
    "def get_route(points, url, api_key):\n",
    "    points = ';'.join(map(osrm_format, points))\n",
    "    params = {\n",
    "        'geometries': 'polyline6',\n",
    "        'overview': 'full',\n",
    "    }\n",
    "    \n",
    "    headers = {\n",
    "        'x-api-key': api_key,\n",
    "    }\n",
    "    \n",
    "    url = f\"{url}/{points}\"\n",
    "    response = requests.get(\n",
    "        url, \n",
    "        params=params,\n",
    "        headers=headers,\n",
    "    )\n",
    "    \n",
    "    result = response.json()\n",
    "    \n",
    "    if (\n",
    "        not ('code' in result)\n",
    "        or result['code'] != 'Ok'\n",
    "    ):\n",
    "        print(response.url, result)\n",
    "        return None, None\n",
    "    \n",
    "    geometry = result['routes'][0]['geometry']\n",
    "    return (\n",
    "        polyline.decode(geometry, 6), \n",
    "        result['routes'][0]['distance'],\n",
    "    )"
   ]
  },
  {
   "cell_type": "code",
   "execution_count": 7,
   "id": "2faf4eec",
   "metadata": {},
   "outputs": [],
   "source": [
    "url = subprocess.run(\n",
    "    ['terraform', 'output', '-raw', 'url'], \n",
    "    cwd='../',\n",
    "    capture_output=True, \n",
    "    text=True,\n",
    ").stdout.strip()\n",
    "\n",
    "api_key = subprocess.run(\n",
    "    ['terraform', 'output', '-raw', 'api_key'], \n",
    "    cwd='../',\n",
    "    capture_output=True, \n",
    "    text=True,\n",
    ").stdout.strip()"
   ]
  },
  {
   "cell_type": "code",
   "execution_count": 8,
   "id": "06abd064",
   "metadata": {},
   "outputs": [
    {
     "name": "stdout",
     "output_type": "stream",
     "text": [
      "https://zkxwce22jj.execute-api.ap-southeast-1.amazonaws.com/v1/105.86939936393794,20.993686966853396;105.83550324106861,21.043666864560734?geometries=polyline6&overview=full {'message': 'Endpoint request timed out'}\n"
     ]
    }
   ],
   "source": [
    "start = (20.993686966853396, 105.86939936393794)\n",
    "stop = (21.043666864560734, 105.83550324106861)\n",
    "\n",
    "points = [start] + [stop]\n",
    "\n",
    "osrm_route, distance = get_route(points, url, api_key)"
   ]
  },
  {
   "cell_type": "code",
   "execution_count": null,
   "id": "2ade5ac5",
   "metadata": {},
   "outputs": [],
   "source": []
  }
 ],
 "metadata": {
  "kernelspec": {
   "display_name": "Python 3 (ipykernel)",
   "language": "python",
   "name": "python3"
  },
  "language_info": {
   "codemirror_mode": {
    "name": "ipython",
    "version": 3
   },
   "file_extension": ".py",
   "mimetype": "text/x-python",
   "name": "python",
   "nbconvert_exporter": "python",
   "pygments_lexer": "ipython3",
   "version": "3.11.9"
  }
 },
 "nbformat": 4,
 "nbformat_minor": 5
}
