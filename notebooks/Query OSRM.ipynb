{
 "cells": [
  {
   "cell_type": "code",
   "execution_count": 1,
   "id": "00d95cf8",
   "metadata": {},
   "outputs": [],
   "source": [
    "import requests\n",
    "import polyline\n",
    "\n",
    "import matplotlib.pyplot as plt\n",
    "import contextily as ctx"
   ]
  },
  {
   "cell_type": "code",
   "execution_count": null,
   "id": "6fd1edc3",
   "metadata": {},
   "outputs": [],
   "source": [
    "def osrm_format(coords):\n",
    "    lat, lon = coords\n",
    "    return f\"{lon},{lat}\"\n",
    "\n",
    "def get_route(url, points):\n",
    "    points = ';'.join(map(osrm_format, points))\n",
    "    params = {\n",
    "        'geometries': 'polyline6',\n",
    "        'overview': 'full',\n",
    "    }\n",
    "    \n",
    "    response = requests.get(url, params=params)\n",
    "    routes = response.json()\n",
    "    \n",
    "    if routes['code'] != 'Ok':\n",
    "        print(routes)\n",
    "        return None\n",
    "    \n",
    "    geometry = routes['routes'][0]['geometry']\n",
    "    return (\n",
    "        polyline.decode(geometry, 6), \n",
    "        routes['routes'][0]['distance'],\n",
    "    )\n"
   ]
  },
  {
   "cell_type": "code",
   "execution_count": 2,
   "id": "52145747",
   "metadata": {},
   "outputs": [],
   "source": [
    "start = (20.993686966853396, 105.86939936393794)\n",
    "stop = (21.043666864560734, 105.83550324106861)"
   ]
  }
 ],
 "metadata": {
  "kernelspec": {
   "display_name": "Python 3 (ipykernel)",
   "language": "python",
   "name": "python3"
  },
  "language_info": {
   "codemirror_mode": {
    "name": "ipython",
    "version": 3
   },
   "file_extension": ".py",
   "mimetype": "text/x-python",
   "name": "python",
   "nbconvert_exporter": "python",
   "pygments_lexer": "ipython3",
   "version": "3.11.9"
  }
 },
 "nbformat": 4,
 "nbformat_minor": 5
}
